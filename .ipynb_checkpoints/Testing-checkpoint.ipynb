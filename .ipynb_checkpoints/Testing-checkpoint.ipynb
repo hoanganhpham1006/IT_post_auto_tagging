{
 "cells": [
  {
   "cell_type": "code",
   "execution_count": 1,
   "metadata": {},
   "outputs": [],
   "source": [
    "from pyvi import ViTokenizer\n",
    "\n",
    "def my_tokenizer(doc):\n",
    "    doc = ViTokenizer.tokenize(doc)\n",
    "    doc = doc.split(\" \")\n",
    "    return doc"
   ]
  },
  {
   "cell_type": "markdown",
   "metadata": {},
   "source": [
    "# LOADING TRAINED MODELS"
   ]
  },
  {
   "cell_type": "code",
   "execution_count": 5,
   "metadata": {},
   "outputs": [],
   "source": [
    "from sklearn.ensemble import ExtraTreesClassifier\n",
    "from sklearn import metrics\n",
    "import pickle\n",
    "\n",
    "with open ('trained_models/vectorizer_20k_features.pkl', 'rb') as fp:\n",
    "    vectorizer = pickle.load(fp)\n",
    "\n",
    "with open ('trained_models/extratree_with_svd_128.pkl', 'rb') as fp:\n",
    "    efc = pickle.load(fp)\n",
    "\n",
    "with open ('trained_models/svd_20k_to_128.pkl', 'rb') as fp:\n",
    "    svd = pickle.load(fp)\n",
    "\n",
    "with open('tags.pkl', 'rb') as f:\n",
    "    tags = pickle.load(f)"
   ]
  },
  {
   "cell_type": "code",
   "execution_count": 6,
   "metadata": {},
   "outputs": [],
   "source": [
    "#Processing tag\n",
    "tags = [tag.lower() for tag in tags]\n",
    "tags = set(tags)\n",
    "tag_space = {}\n",
    "for tag in tags:\n",
    "    if (\" \" in tag) or (\"-\" in tag) or (\"/\" in tag):\n",
    "        tag_space[tag] = tag.replace(\" \", \"_\").replace(\"-\", \"_\").replace(\"/\", \"_\")"
   ]
  },
  {
   "cell_type": "code",
   "execution_count": 3,
   "metadata": {},
   "outputs": [],
   "source": [
    "from bs4 import BeautifulSoup\n",
    "from markdown import markdown\n",
    "import re\n",
    "import mistune\n",
    "\n",
    "markdown = mistune.Markdown()"
   ]
  },
  {
   "cell_type": "code",
   "execution_count": 4,
   "metadata": {},
   "outputs": [],
   "source": [
    "# Preprocessing markdown\n",
    "def markdown_process(content, markdown=markdown):\n",
    "    html_doc = markdown(content)\n",
    "    soup = BeautifulSoup(html_doc, 'html.parser')\n",
    "    \n",
    "    for tag in soup.find_all(['pre']):\n",
    "        tag.replace_with('')\n",
    "    for tag in soup.find_all(['img']):\n",
    "        tag.replace_with('')\n",
    "    for tag in soup.find_all(['a']):\n",
    "        tag.replace_with('')\n",
    "        \n",
    "    text = soup.text\n",
    "    text = text.replace('\\n', ' ')\n",
    "    text = re.sub(r'[^\\w\\s]',' ',text)\n",
    "    text = text.lower()\n",
    "    text = text.strip()\n",
    "    \n",
    "    for tag in tag_space:\n",
    "        text = text.replace(tag, tag_space[tag])\n",
    "    \n",
    "    return text"
   ]
  },
  {
   "cell_type": "code",
   "execution_count": 7,
   "metadata": {},
   "outputs": [],
   "source": [
    "document_test_1 = '''\n",
    "Có rất nhiều tuỳ chọn để bạn thay đổi Terminal của mình, nhưng chúng tôi không muốn phải bỏ ra hàng giờ để làm việc đó, vậy nên chúng tôi sẽ dành ra khoảng 7 phút cho 1 trải nghiệm Terminal: 🎬 Hiển thị trạng thái của git tốt hơn 🏎️ Code nhanh hơn với autocompletions 💮 Thoải mái hơn trong việc code mỗi ngày Nếu có bất kì góp ý nào, đừng ngại ngùng để lại comment nhé 👐 #### Bật mí 1 chút thành quả sau khi thực hiện ![](https://cdn-images-1.medium.com/max/800/1*HR2axSnawYpDNSlPZRy0wA.png) ## Các bước thực hiện ### 1. Cài đặt và cấu hình iTerm2 ``` $ brew cask install iterm2 ``` Chúng tôi dùng iTerm2 vì màu sắc của nó chân thực hơn so với Terminal mặc định và sẽ mang lại trải nghiệm tốt hơn. ##### Chọn bảng màu cho Iterm2 của bạn. * Bạn có thể sử dụng [màu của Clovis](https://raw.githubusercontent.com/Clovis-team/clovis-open-code-extracts/master/utils/Clovis-iTerm2-Color-Scheme.itermcolors) (giống với hình chụp ở đầu bài). * Hoặc lựa chọn ở [opensource iTerm2 color schemes](https://iterm2colorschemes.com/) và download ở [preset’s file](https://github.com/mbadolato/iTerm2-Color-Schemes/tree/master/schemes). ##### Áp dụng bảng màu trong iTerm2 ``` iTerm → Preferences → Profiles → Colors → Color presets → Import ``` ``` → Color presets → file bảng màu của bạn ``` ![](https://cdn-images-1.medium.com/max/1600/1*-ewoBb3M1lsQWyuy7WvF-w.png) ### 2. Cài đặt phông chữ còn thiếu Phông chữ ở đây là phông chữ được iTerm2 sử dụng để hiển thị các ký tự đặc biệt như các mũi tên và biểu tượng git. ![](https://cdn-images-1.medium.com/max/1600/1*xCYq2efusqeW5cg-tLYCaQ.png) ##### Tải xuống và cài đặt phông chữ * [Meslo](https://github.com/powerline/fonts/blob/master/Meslo%20Slashed/Meslo%20LG%20M%20Regular%20for%20Powerline.ttf) (font chữ trong ảnh minh hoạ). Nhấp vào \"view raw\" để tải phông chữ. * [Source Code Pro](https://github.com/powerline/fonts/blob/master/SourceCodePro/Source%20Code%20Pro%20for%20Powerline.otf) có sự liên kết tốt hơn cho glyphs @14px. * [Các font chữ khác](https://github.com/powerline/fonts) Mở phông chữ đã tải xuống và nhấn “Install Font” trên máy tính của bạn. ##### Thêm phông chữ trong iTerm2 ``` iTerm2 → Preferences → Profiles → Text → Change Font ``` ![](https://cdn-images-1.medium.com/max/1600/1*BZkmXHh80z_i5vxWh5HQcQ.png) ### 3. Cài đặt Zsh và Oh my Zsh ![](https://cdn-images-1.medium.com/max/1600/1*7inD8Cq3yU_GKGbizyFutg.png) Zsh là một trình shell cung cấp nhiều tính năng, như điều hướng các tệp và thư mục tốt hơn. Để cài đặt nó: ``` brew install zsh zsh-completions ``` Oh my Zsh là một cấu hình Zsh, bạn có thể đọc thêm ở đây: github.com/robbyrussell/oh-my-zsh. Để cài đặt nó: ``` $ sh -c \"$ (curl -fsSL https://raw.github.com/robbyrussell/oh-my-zsh/master/tools/install.sh)\" ``` Trong các bước tiếp theo, bạn sẽ cần phải chỉnh sửa tệp cấu hình `~/.zshrc` được chạy khi thiết bị khởi động. ### 4. Thêm theme Powerlevel9k Zsh ![](https://cdn-images-1.medium.com/max/1600/1*xCYq2efusqeW5cg-tLYCaQ.png) Theme Powerlevel9k zsh thêm nhiều tính năng khác như thôn tin code, thời gian... Để cài đặt nó chạy: ``` $ git clone https://github.com/bhilburn/powerlevel9k.git ~/.oh-my-zsh/custom/themes/powerlevel9k ``` Sau đó chỉnh sửa tập tin cấu hình ~/.zshrc và cài ``` ZSH_THEME=\"powerlevel9k/powerlevel9k\" ``` Powerlevel9k cung cấp nhiều hơn nữa, cùng theo dõi tiếp nhé ### 5. Những cài đặt cuối cùng * dấu nhắc ngắn hơn * bật điều hướng trình chỉnh sửa văn bản * tự động đề xuất * highlight cú pháp * dòng mới sau mỗi câu lệnh * Thay đổi màu của trạng thái cảnh báo git * Thay đổi màu của tab Iterm2 ##### Shorter prompt Ở đây bạn có thể loại bỏ tên người dùng @hostname và thông tin không cần thiết + đặt dòng code xuống dòng: *Trước đây* ![](https://cdn-images-1.medium.com/max/800/1*nqh3bSDUYSBxjDWUgFSwLw.png) *Bây giờ* ![](https://cdn-images-1.medium.com/max/800/1*jCBFWhLKkCz4dCFOJ2DTpQ.png) Thêm vào file ~/.zshrcconfiguration của bạn: ``` POWERLEVEL9K_LEFT_PROMPT_ELEMENTS=(dir rbenv vcs) POWERLEVEL9K_RIGHT_PROMPT_ELEMENTS=(status root_indicator background_jobs history time) ``` Để dòng code xuất hiện ở dòng mới ``` POWERLEVEL9K_PROMPT_ON_NEWLINE=true ``` Để kí tự `$` đẹp hơn ``` # Add a space in the first prompt POWERLEVEL9K_MULTILINE_FIRST_PROMPT_PREFIX=\"%f\" # Visual customisation of the second prompt line local user_symbol=\"$\" if [[ $(print -P \"%#\") =~ \"#\" ]]; then user_symbol = \"#\" fi POWERLEVEL9K_MULTILINE_LAST_PROMPT_PREFIX=\"%{%B%F{black}%K{yellow}%} $user_symbol%{%b%f%k%F{yellow}%} %{%f%}\" ``` Đọc thêm về POWERLEVEL9K ở đây: https://code.tutsplus.com/tutorials/how-to-customize-your-command-prompt--net-24083 ##### Bật thanh điều hướng văn bản ###### Con trỏ dọc ![](https://cdn-images-1.medium.com/max/1600/1*wyUWoCDeiHJE7V-HEmclkg.png) ``` iTerm2 → Preferences → Profiles → Text → Cursor : ✓ Vertical Bar → Blinking cursor : ✓ ON ``` ![](https://cdn-images-1.medium.com/max/1600/1*BZkmXHh80z_i5vxWh5HQcQ.png) ###### Điều hướng với bàn phím Mặc định, bạn sẽ duyệt qua từ với (option + → or ←) và xoá từ với option + backspace), nhưng trong iTerm2 nó sẽ không bật sẵn. Bạn cần mở nó lên: ``` iTerm → Preferences → Profiles → Keys → Load Preset… → Natural Text Editing ``` ![](https://cdn-images-1.medium.com/max/1600/1*PBDetWpgW4VXpr-0SmUXdA.png) Khởi động lại iTerm2 để lưu lại những thay đổi. #### Auto suggestions (for Oh My Zsh) This plugin suggests the commands you used in your terminal history. You just have to type → to fill it entirely ! #### Đề xuất tự động (cho Oh My Zsh) Plugin này gợi ý các lệnh bạn đã sử dụng trong lịch sử. Bạn chỉ cần gõ → để điền hoàn toàn! ![](https://cdn-images-1.medium.com/max/1600/1*byEErAY20uZGYsXI0T14MQ.png) ``` $ git clone https://github.com/zsh-users/zsh-autosuggestions $ZSH_CUSTOM/plugins/zsh-autosuggestions Note: $ZSH_CUSTOM/plugins path is by default ~/.oh-my-zsh/custom/plugins ``` Thêm plugin vào file `~/.zshrc` ``` plugins=( … zsh-autosuggestions ) ``` Mở 1 session terminal mới để trải nghiệm. Đọc thêm về nó ở đây: github.com/tarruda/zsh-autosuggestions#oh-my-zsh #### Highlight cú pháp ![](https://cdn-images-1.medium.com/max/1600/1*la_o-lG9oe0dzbSWNxv6IA.png) Highlight cho phép bạn nhìn các dòng code với màu sắc đẹp và dễ dùng hơn, nó cũng hiển thị những câu lệnh đã từng được lưu với shell của bạn ``` $ brew install zsh-syntax-highlighting ``` Sau khi cài đặt, thêm dòng sau vào file `~/.zshrc` ``` source /usr/local/share/zsh-syntax-highlighting/zsh-syntax-highlighting.zsh ``` Sau đó khởi động lại terminal. Source file `~/.zshrc` bằng câu lệnh `source ~/.zshrc` để bắt đầu sử dụng plugin này #### Thêm dòng trống Trước đây ![](https://cdn-images-1.medium.com/max/1600/1*-Roc94tb5pEPAkKul9FBpA.png) Sau khi thêm ![](https://cdn-images-1.medium.com/max/1600/1*OEEvmlEiZ8kia50ijK-gTA.png) Thêm dòng sau vào file `~/.zshrc`: ``` POWERLEVEL9K_PROMPT_ADD_NEWLINE=true ``` #### Đổi màu cảnh bảo git Trước đây ![](https://cdn-images-1.medium.com/max/1600/1*ZNc2UsmF4RCw_uev37o1bA.png) Sau khi thêm ![](https://cdn-images-1.medium.com/max/1600/1*CuXZ7ypMtFyrlqO8ARf83w.png) Thêm dòng sau: ``` POWERLEVEL9K_VCS_MODIFIED_BACKGROUND=’red’ ``` #### Đổi màu các tab của iTerm2 ![](https://cdn-images-1.medium.com/max/1600/1*jv9oRgRRwPyuNjRk6iNqgw.png) *Giao diện cuối cùng chưa hoàn hảo, nhưng đã tốt hơn rất nhiều* Thêm mầy dòng này vào cuối tệp `~/.zshrc` và khởi động lại iTerm: ``` # Colorise the top Tabs of Iterm2 with the same color as background # Just change the 18/26/33 wich are the rgb values echo -e \"\\033]6;1;bg;red;brightness;18\\a\" echo -e \"\\033]6;1;bg;green;brightness;26\\a\" echo -e \"\\033]6;1;bg;blue;brightness;33\\a\" ``` Nguồn tham khảo: * Bài gốc: https://medium.com/@Clovis_app/configuration-of-a-beautiful-efficient-terminal-and-prompt-on-osx-in-7-minutes-827c29391961 * https://github.com/chris-murray/powerlevel9k-custom * https://gist.github.com/kevin-smets/8568070\n",
    "'''"
   ]
  },
  {
   "cell_type": "code",
   "execution_count": 8,
   "metadata": {},
   "outputs": [],
   "source": [
    "document_test_2 = '''\n",
    "Chi sai gần một tỷ đồng, nguyên hiệu trưởng cao đẳng bị khởi tố\n",
    "Hơn một năm sau khi bị kỷ luật Đảng, nguyên hiệu trưởng trường Cao đẳng Cộng đồng Sóc Trăng cùng hai cấp dưới bị khởi tố.\n",
    "\n",
    "Công an tỉnh Sóc Trăng hôm 6/9 đã khởi tố, cấm đi khỏi nơi cư trú đối với ông Đoàn Thiện Tài, nguyên Hiệu trưởng trường Cao đẳng Cộng đồng Sóc Trăng; Phạm Ngọc Quan, nguyên Giám đốc Trung tâm Ngoại Ngữ - Tin học và Trần Thị Mộng Trinh, nguyên Trưởng Phòng Tài vụ - Kế toán trưởng về hành vi Lợi dụng chức vụ, quyền hạn trong khi thi hành công vụ.\n",
    "\n",
    "Cựu hiệu trưởng cùng hai cấp dưới bị cho đã chi không đúng danh mục; không đúng chế độ cho 13 cá nhân là lãnh đạo, giảng viên nhà trường (từ tháng 8/2014 đến 11/2016), gây thiệt hại hơn 900 triệu đồng.\n",
    "\n",
    "Hồi tháng 4/2017, Thanh tra tỉnh Sóc Trăng cũng công bố kết quả thanh tra sai phạm Về việc thực hiện chính sách, pháp luật tài chính và xây dựng cơ bản tại trường Cao đẳng Cộng đồng Sóc Trăng, số tiền 8,5 tỷ đồng.\n",
    "\n",
    "Thanh tra cũng kiến nghị UBND tỉnh Sóc Trăng chỉ đạo kiểm điểm tập thể và 10 cá nhân tại trường, cùng các đơn vị trực thuộc; đồng thời, chuyển hồ sơ sang cơ quan điều tra đối với sai phạm liên quan đến thanh toán chứng từ không đúng thực tế, sử dụng vào mục đích cá nhân.\n",
    "'''"
   ]
  },
  {
   "cell_type": "code",
   "execution_count": 9,
   "metadata": {},
   "outputs": [],
   "source": [
    "#Preprocessing document\n",
    "document_test_1 = markdown_process(document_test_1)\n",
    "document_test_2 = markdown_process(document_test_2)"
   ]
  },
  {
   "cell_type": "code",
   "execution_count": 10,
   "metadata": {},
   "outputs": [
    {
     "name": "stdout",
     "output_type": "stream",
     "text": [
      "có rất nhiều tuỳ chọn để bạn thay đổi terminal của mình  nhưng chúng tôi không muốn phải bỏ ra hàng giờ để làm việc đó  vậy nên chúng tôi sẽ dành ra khoảng 7 phút cho 1 trải nghiệm terminal    hiển thị trạng thái của git tốt hơn    code nhanh hơn với autocompletions   thoải mái hơn trong việc code mỗi ngày nếu có bất kì góp ý nào  đừng ngại ngùng để lại comment nhé        bật mí 1 chút thành quả sau khi thực hiện     các bước thực hiện     1  cài đặt và cấu hình iterm2   brew cask install iterm2 chúng tôi dùng iterm2 vì màu sắc của nó chân thực hơn so với terminal mặc định và sẽ mang lại trải nghiệm tốt hơn        chọn bảng màu cho iterm2 của bạn   bạn có thể sử dụng   giống với hình chụp ở đầu bài    hoặc lựa chọn ở  và download ở         áp dụng bảng màu trong iterm2 iterm   preferences   profiles   colors   color presets   import   color presets   file bảng màu của bạn      2  cài đặt phông chữ còn thiếu phông chữ ở đây là phông chữ được iterm2 sử dụng để hiển thị các ký tự đặc biệt như các mũi tên và biểu tượng git         tải xuống và cài đặt phông chữ    font chữ trong ảnh minh hoạ   nhấp vào  view raw  để tải phông chữ    có sự liên kết tốt hơn cho glyphs  14px    mở phông chữ đã tải xuống và nhấn  install font  trên máy tính của bạn        thêm phông chữ trong iterm2 iterm2   preferences   profiles   text   change font     bzkmxhh80z_i5vxwh5hqcq png      3  cài đặt zsh và oh_my_zsh  zsh là một trình shell cung cấp nhiều tính năng  như điều hướng các tệp và thư mục tốt hơn  để cài đặt nó  brew install zsh zsh completions oh_my_zsh là một cấu hình zsh  bạn có thể đọc thêm ở đây  github com robbyrussell oh_my_zsh  để cài đặt nó    sh  c     curl  fssl https   raw github com robbyrussell oh_my_zsh master tools install sh   trong các bước tiếp theo  bạn sẽ cần phải chỉnh sửa tệp cấu hình    zshrc được chạy khi thiết bị khởi động      4  thêm theme powerlevel9k zsh  theme powerlevel9k zsh thêm nhiều tính năng khác như thôn tin code  thời gian    để cài đặt nó chạy    git clone https   github com bhilburn powerlevel9k git    oh_my_zsh custom themes powerlevel9k sau đó chỉnh sửa tập tin cấu hình    zshrc và cài zsh_theme  powerlevel9k powerlevel9k  powerlevel9k cung cấp nhiều hơn nữa  cùng theo dõi tiếp nhé     5  những cài đặt cuối cùng  dấu nhắc ngắn hơn  bật điều hướng trình chỉnh sửa văn bản  tự động đề xuất  highlight cú pháp  dòng mới sau mỗi câu lệnh  thay đổi màu của trạng thái cảnh báo git  thay đổi màu của tab iterm2       shorter prompt ở đây bạn có thể loại bỏ tên người dùng  hostname và thông tin không cần thiết   đặt dòng code xuống_dòng  trước đây     nqh3bsduysbxjdwugfswlw png  bây giờ  thêm vào file    zshrcconfiguration của bạn  powerlevel9k_left_prompt_elements  dir rbenv vcs  powerlevel9k_right_prompt_elements  status root_indicator background_jobs history time  để dòng code xuất hiện ở dòng mới powerlevel9k_prompt_on_newline true để kí tự   đẹp hơn   add a space in the first prompt powerlevel9k_multiline_first_prompt_prefix   f    visual customisation of the second prompt line local user_symbol     if      print  p                  then user_symbol       fi powerlevel9k_multiline_last_prompt_prefix     b f black  k yellow     user_symbol   b f k f yellow        f    đọc thêm về powerlevel9k ở đây         bật thanh điều hướng văn bản        con trỏ dọc  iterm2   preferences   profiles   text   cursor     vertical bar   blinking cursor     on         điều hướng với bàn phím mặc định  bạn sẽ duyệt qua từ với  option     or    và xoá từ với option   backspace   nhưng trong iterm2 nó sẽ không bật sẵn  bạn cần mở nó lên  iterm   preferences   profiles   keys   load preset    natural text editing  khởi động lại iterm2 để lưu lại những thay đổi       auto suggestions  for oh_my_zsh  this plugin suggests the commands you used in your terminal history  you just have to type   to fill it entirely        đề xuất tự động  cho oh_my_zsh  plugin này gợi ý các lệnh bạn đã sử dụng trong lịch sử  bạn chỉ cần gõ   để điền hoàn toàn     git clone https   github com zsh users zsh autosuggestions  zsh_custom plugins zsh autosuggestions note   zsh_custom plugins path is by default    oh_my_zsh custom plugins thêm plugin vào file    zshrc plugins     zsh autosuggestions   mở 1 session terminal mới để trải nghiệm  đọc thêm về nó ở đây  github com tarruda zsh autosuggestions oh_my_zsh      highlight cú pháp  highlight cho phép bạn nhìn các dòng code với màu sắc đẹp và dễ dùng hơn  nó cũng hiển thị những câu lệnh đã từng được lưu với shell của bạn   brew install zsh syntax highlighting sau khi cài đặt  thêm dòng sau vào file    zshrc source  usr local share zsh syntax highlighting zsh syntax highlighting zsh sau đó khởi động lại terminal  source file    zshrc bằng câu lệnh source    zshrc để bắt đầu sử dụng plugin này      thêm dòng trống trước đây  sau khi thêm  thêm dòng sau vào file    zshrc  powerlevel9k_prompt_add_newline true      đổi màu cảnh bảo git trước đây  sau khi thêm  thêm dòng sau  powerlevel9k_vcs_modified_background  red       đổi màu các tab của iterm2  giao diện cuối cùng chưa hoàn hảo  nhưng đã tốt hơn rất nhiều thêm mầy dòng này vào cuối tệp    zshrc và khởi động lại iterm    colorise the top tabs of iterm2 with the same color as background   just change the 18 26 33 wich are the rgb values echo  e    6 1 bg red brightness 18   echo  e    6 1 bg green brightness 26   echo  e    6 1 bg blue brightness 33   nguồn tham khảo   bài gốc\n"
     ]
    }
   ],
   "source": [
    "print(document_test_1)"
   ]
  },
  {
   "cell_type": "code",
   "execution_count": 12,
   "metadata": {},
   "outputs": [
    {
     "name": "stdout",
     "output_type": "stream",
     "text": [
      "chi sai gần một tỷ đồng  nguyên hiệu trưởng cao đẳng bị khởi tố hơn một năm sau khi bị kỷ luật đảng  nguyên hiệu trưởng trường cao đẳng cộng đồng sóc trăng cùng hai cấp dưới bị khởi tố  công an tỉnh sóc trăng hôm 6 9 đã khởi tố  cấm đi khỏi nơi cư trú đối với ông đoàn thiện tài  nguyên hiệu trưởng trường cao đẳng cộng đồng sóc trăng  phạm ngọc quan  nguyên giám đốc trung tâm ngoại ngữ   tin học và trần thị mộng trinh  nguyên trưởng phòng tài vụ   kế toán trưởng về hành vi lợi dụng chức vụ  quyền hạn trong khi thi hành công vụ  cựu hiệu trưởng cùng hai cấp dưới bị cho đã chi không đúng danh mục  không đúng chế độ cho 13 cá nhân là lãnh đạo  giảng viên nhà trường  từ tháng 8 2014 đến 11 2016   gây thiệt hại hơn 900 triệu đồng  hồi tháng 4 2017  thanh tra tỉnh sóc trăng cũng công bố kết quả thanh tra sai phạm về việc thực hiện chính sách  pháp luật tài chính và xây dựng cơ bản tại trường cao đẳng cộng đồng sóc trăng  số tiền 8 5 tỷ đồng  thanh tra cũng kiến nghị ubnd tỉnh sóc trăng chỉ đạo kiểm điểm tập thể và 10 cá nhân tại trường  cùng các đơn vị trực thuộc  đồng thời  chuyển hồ sơ sang cơ quan điều tra đối với sai phạm liên quan đến thanh toán chứng từ không đúng thực tế  sử dụng vào mục đích cá nhân\n"
     ]
    }
   ],
   "source": [
    "print(document_test_2)"
   ]
  },
  {
   "cell_type": "code",
   "execution_count": 14,
   "metadata": {},
   "outputs": [],
   "source": [
    "y_pred = efc.predict(svd.transform(vectorizer.transform([document_test_1, document_test_2])))"
   ]
  },
  {
   "cell_type": "code",
   "execution_count": 15,
   "metadata": {},
   "outputs": [
    {
     "name": "stdout",
     "output_type": "stream",
     "text": [
      "[1 0]\n"
     ]
    }
   ],
   "source": [
    "print(y_pred)"
   ]
  },
  {
   "cell_type": "code",
   "execution_count": null,
   "metadata": {},
   "outputs": [],
   "source": []
  }
 ],
 "metadata": {
  "kernelspec": {
   "display_name": "deep-fashion",
   "language": "python",
   "name": "deep-fashion"
  },
  "language_info": {
   "codemirror_mode": {
    "name": "ipython",
    "version": 3
   },
   "file_extension": ".py",
   "mimetype": "text/x-python",
   "name": "python",
   "nbconvert_exporter": "python",
   "pygments_lexer": "ipython3",
   "version": "3.5.2"
  }
 },
 "nbformat": 4,
 "nbformat_minor": 2
}
